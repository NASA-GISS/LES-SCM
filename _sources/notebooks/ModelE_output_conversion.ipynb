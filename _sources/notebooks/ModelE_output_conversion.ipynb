{
 "cells": [
  {
   "cell_type": "markdown",
   "id": "0930d2df-d8ff-48d7-8acd-eaef9b22579e",
   "metadata": {},
   "source": [
    "# ModelE Output Processing"
   ]
  },
  {
   "cell_type": "code",
   "execution_count": 28,
   "id": "26803559-f86d-4eac-b400-ef24da919954",
   "metadata": {},
   "outputs": [],
   "source": [
    "## load functions and libraries\n",
    "%run functions_ModelE_conversion.py \n",
    "\n",
    "if 'openpyxl' not in sys.modules:\n",
    "    !pip install --no-deps openpyxl-3.1.5-py2.py3-none-any.whl "
   ]
  },
  {
   "cell_type": "code",
   "execution_count": 13,
   "id": "734f4f20-4cfd-43de-80b0-7a34392300d6",
   "metadata": {},
   "outputs": [],
   "source": [
    "## define list of LES simulations for DEPHY output conversion\n",
    "## format:\n",
    "## \"original LES output directory\":\"converted file name\"\n",
    "case_list = {'SCM_COMBLE-MIP_diagNa':'comble_20200313_diagNa'}"
   ]
  },
  {
   "cell_type": "code",
   "execution_count": 29,
   "id": "966edab0-36ab-488a-88a5-0bde6a2b56ed",
   "metadata": {},
   "outputs": [
    {
     "name": "stdout",
     "output_type": "stream",
     "text": [
      "SCM_COMBLE-MIP_diagNa\n",
      "--------------------\n",
      "/discover/nobackup/tflorian/modelE_runs/SCM_COMBLE-MIP_diagNa/allsteps.allmergeSCM_COMBLE-MIP_diagNa.nc\n",
      "do_ice =  True\n",
      "<class 'netCDF4._netCDF4.Dataset'>\n",
      "root group (NETCDF3_CLASSIC data model, file format NETCDF3):\n",
      "    title: ModelE3 SCM results for COMBLE-MIP case: fixed stratiform Nd and Ni\n",
      "    reference: https://github.com/ARM-Development/comble-mip\n",
      "    authors: Ann Fridlind (ann.fridlind@nasa.gov), Florian Tornow (florian.tornow@nasa.gov), Andrew Ackerman (andrew.ackerman@nasa.gov)\n",
      "    source: /discover/nobackup/tflorian/modelE_runs/SCM_COMBLE-MIP_diagNa/allsteps.allmergeSCM_COMBLE-MIP_diagNa.nc\n",
      "    version: 2025-05-08 20:36:32\n",
      "    format_version: DEPHY SCM format version 1.6\n",
      "    script: convert_ModelE3_SCM_output_to_dephy_format.ipynb\n",
      "    startDate: 2020-03-12T22:00:00Z\n",
      "    force_geo: 1\n",
      "    surfaceType: ocean\n",
      "    surfaceForcing: ts\n",
      "    lat: 74.5 deg N\n",
      "    dp: see pressure variable\n",
      "    np: 110\n",
      "    dimensions(sizes): time(40), layer(110)\n",
      "    variables(dimensions): float64 time(time), float64 layer(layer), float64 pa(time, layer), float64 pe(time, layer), float64 ps(time), float64 ts(time), float64 ustar(time), float64 z0(time), float64 z0h(time), float64 z0q(time), float64 hfss(time), float64 hfls(time), float64 ol(time), float64 pblh(time), float64 zi(time), float64 lwpc(time), float64 lwpr(time), float64 iwp(time), float64 cf(time), float64 cflc(time), float64 cfc(time), float64 od(time), float64 odlc(time), float64 pr(time), float64 pri(time), float64 rlut(time), float64 rlds(time), float64 rlus(time), float64 ssaf(time), float64 zf(time, layer), float64 ua(time, layer), float64 va(time, layer), float64 rhoa(time, layer), float64 ta(time, layer), float64 qv(time, layer), float64 hur(time, layer), float64 huri(time, layer), float64 theta(time, layer), float64 qlc(time, layer), float64 qlr(time, layer), float64 qi(time, layer), float64 fh(time, layer), float64 flc(time, layer), float64 fc(time, layer), float64 prf(time, layer), float64 prfi(time, layer), float64 tke(time, layer), float64 eps(time, layer), float64 uw(time, layer), float64 vw(time, layer), float64 w2(time, layer), float64 wth(time, layer), float64 vf_thli(time, layer), float64 wqv(time, layer), float64 vf_qt(time, layer), float64 cmfu(time, layer), float64 cmfd(time, layer), float64 rld(time, layer), float64 rlu(time, layer), float64 dth_rad(time, layer), float64 dth_micro(time, layer), float64 dth_turb(time, layer), float64 dq_micro(time, layer), float64 dq_turb(time, layer), float64 na1(time, layer), float64 na2(time, layer), float64 na3(time, layer), float64 dna_micro_warm(time, layer), float64 dna_micro_cold(time, layer), float64 dna_turb(time, layer), float64 dni_het(time, layer), float64 dni_sip(time, layer), float64 dni_hom(time, layer), float64 qlcs(time, layer), float64 qlrs(time, layer), float64 qics(time, layer), float64 qips(time, layer), float64 qlcc(time, layer), float64 qlrc(time, layer), float64 qicc(time, layer), float64 qipc(time, layer), float64 nlcs(time, layer), float64 nlrs(time, layer), float64 nics(time, layer), float64 nips(time, layer), float64 relcc(time, layer), float64 relrc(time, layer), float64 reicc(time, layer), float64 reipc(time, layer), float64 flcs(time, layer), float64 flrs(time, layer), float64 fics(time, layer), float64 fips(time, layer), float64 flcc(time, layer), float64 flrc(time, layer), float64 ficc(time, layer), float64 fipc(time, layer), float64 vmlcs(time, layer), float64 vmlrs(time, layer), float64 vmics(time, layer), float64 vmips(time, layer), float64 vmlcc(time, layer), float64 vmlrc(time, layer), float64 vmicc(time, layer), float64 vmipc(time, layer)\n",
      "    groups: \n"
     ]
    }
   ],
   "source": [
    "for x in case_list:\n",
    "    ## \n",
    "    print(x)\n",
    "    ModelE_convert(x,case_list[x])"
   ]
  },
  {
   "cell_type": "code",
   "execution_count": null,
   "id": "99d09876-08b7-430d-bf4c-0b397e182005",
   "metadata": {},
   "outputs": [],
   "source": []
  }
 ],
 "metadata": {
  "kernelspec": {
   "display_name": "Python [conda env:base]",
   "language": "python",
   "name": "conda-base-py"
  },
  "language_info": {
   "codemirror_mode": {
    "name": "ipython",
    "version": 3
   },
   "file_extension": ".py",
   "mimetype": "text/x-python",
   "name": "python",
   "nbconvert_exporter": "python",
   "pygments_lexer": "ipython3",
   "version": "3.12.5"
  }
 },
 "nbformat": 4,
 "nbformat_minor": 5
}
