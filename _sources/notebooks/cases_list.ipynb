{
 "cells": [
  {
   "cell_type": "markdown",
   "id": "895d363c-1255-4bcd-b101-2bb23cae356f",
   "metadata": {
    "panel-layout": {
     "height": 51.140625,
     "visible": true,
     "width": 100
    }
   },
   "source": [
    "# Summary of Cases"
   ]
  },
  {
   "cell_type": "markdown",
   "id": "34d242f1-6337-4450-835c-774ca05eac13",
   "metadata": {},
   "source": [
    "A list of specific cases."
   ]
  },
  {
   "cell_type": "markdown",
   "id": "0aa39df5-404b-46e8-b0a1-10e860a16528",
   "metadata": {},
   "source": [
    "## ACTIVATE marine cold-air outbreaks"
   ]
  },
  {
   "cell_type": "markdown",
   "id": "de8050b8-ad96-4ac9-b7f0-02759d5b4e5b",
   "metadata": {},
   "source": [
    "\n",
    "\n",
    "## Marine cold-air outbreak cases\n",
    "\n",
    "Some text that describes how we selected cases from the below campaigns, such as the recent ACTIVATE postfrontal survey [(Tornow et al., 2025)](https://doi.org/10.5194/egusphere-2024-3462).\n",
    "\n",
    "| Campaign | Date | Duration (h) | Cloud-top Temperature (°C)\n",
    "| :---         |     :---:        |          ---: | ---: |\n",
    "| COMBLE [(Geerts et al., 2022)](https://doi.org/10.1175/BAMS-D-21-0044.1)      | 2020-03-13       |   |\n",
    "|              | 2020-04-09       |     |\n",
    "|              | 2020-04-25       |     |\n",
    "|              | 2020-05-07       |     |\n",
    "|              | 2020-05-12       |     |\n",
    "| ACTIVATE [(Sorooshian et al., 2023)](https://doi.org/10.5194/essd-15-3419-2023)    | 2020-03-01       |   |\n",
    "|              | 2021-01-29       |     |\n",
    "|              | 2021-02-03       |     |\n",
    "|              | 2022-01-11       |     |\n",
    "|              | 2022-01-18       |     |\n",
    "|              | 2022-03-13       |     |\n",
    "|              | 2022-03-29       |     |"
   ]
  },
  {
   "cell_type": "code",
   "execution_count": null,
   "id": "6f69c296-0588-42e6-8c2f-acb3e93b4dc3",
   "metadata": {},
   "outputs": [],
   "source": []
  }
 ],
 "metadata": {
  "kernelspec": {
   "display_name": "Python 3 (ipykernel)",
   "language": "python",
   "name": "python3"
  },
  "language_info": {
   "codemirror_mode": {
    "name": "ipython",
    "version": 3
   },
   "file_extension": ".py",
   "mimetype": "text/x-python",
   "name": "python",
   "nbconvert_exporter": "python",
   "pygments_lexer": "ipython3",
   "version": "3.12.7"
  },
  "panel-cell-order": [
   "895d363c-1255-4bcd-b101-2bb23cae356f"
  ]
 },
 "nbformat": 4,
 "nbformat_minor": 5
}
