{
 "cells": [
  {
   "cell_type": "markdown",
   "id": "895d363c-1255-4bcd-b101-2bb23cae356f",
   "metadata": {
    "panel-layout": {
     "height": 51.140625,
     "visible": true,
     "width": 100
    }
   },
   "source": [
    "# Summary of Cases"
   ]
  },
  {
   "cell_type": "markdown",
   "id": "34d242f1-6337-4450-835c-774ca05eac13",
   "metadata": {},
   "source": [
    "A list of specific cases."
   ]
  },
  {
   "cell_type": "markdown",
   "id": "0aa39df5-404b-46e8-b0a1-10e860a16528",
   "metadata": {},
   "source": [
    "## ACTIVATE marine cold-air outbreaks"
   ]
  },
  {
   "cell_type": "code",
   "execution_count": 4,
   "id": "37b842c8-5301-4b5b-b40b-eaa5051c122c",
   "metadata": {},
   "outputs": [
    {
     "data": {
      "text/plain": [
       "3"
      ]
     },
     "execution_count": 4,
     "metadata": {},
     "output_type": "execute_result"
    }
   ],
   "source": [
    "1 + 2 "
   ]
  },
  {
   "cell_type": "code",
   "execution_count": null,
   "id": "6f69c296-0588-42e6-8c2f-acb3e93b4dc3",
   "metadata": {},
   "outputs": [],
   "source": []
  }
 ],
 "metadata": {
  "kernelspec": {
   "display_name": "Python 3 (ipykernel)",
   "language": "python",
   "name": "python3"
  },
  "language_info": {
   "codemirror_mode": {
    "name": "ipython",
    "version": 3
   },
   "file_extension": ".py",
   "mimetype": "text/x-python",
   "name": "python",
   "nbconvert_exporter": "python",
   "pygments_lexer": "ipython3",
   "version": "3.12.7"
  },
  "panel-cell-order": [
   "895d363c-1255-4bcd-b101-2bb23cae356f"
  ]
 },
 "nbformat": 4,
 "nbformat_minor": 5
}
