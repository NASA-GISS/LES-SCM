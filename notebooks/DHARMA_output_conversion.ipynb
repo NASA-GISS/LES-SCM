{
 "cells": [
  {
   "cell_type": "markdown",
   "id": "0930d2df-d8ff-48d7-8acd-eaef9b22579e",
   "metadata": {},
   "source": [
    "# DHARMA Output Processing"
   ]
  },
  {
   "cell_type": "code",
   "execution_count": 37,
   "id": "26803559-f86d-4eac-b400-ef24da919954",
   "metadata": {},
   "outputs": [],
   "source": [
    "## load functions and libraries\n",
    "%run functions_DHARMA_conversion.py \n",
    "\n",
    "if 'openpyxl' not in sys.modules:\n",
    "    !pip install --no-deps openpyxl-3.1.5-py2.py3-none-any.whl "
   ]
  },
  {
   "cell_type": "code",
   "execution_count": 24,
   "id": "734f4f20-4cfd-43de-80b0-7a34392300d6",
   "metadata": {},
   "outputs": [],
   "source": [
    "## define list of LES simulations for DEPHY output conversion\n",
    "## format:\n",
    "## \"original LES output directory\":\"converted file name\"\n",
    "case_list = {'comble_progna_baseline/':'comble_20200313_progNa',\n",
    "             'comble_diagna_baseline/':'comble_20200313_diagNa'}"
   ]
  },
  {
   "cell_type": "code",
   "execution_count": 29,
   "id": "c8bc9522-5890-42a7-a625-ad4bfaa1be81",
   "metadata": {
    "scrolled": true
   },
   "outputs": [
    {
     "name": "stdout",
     "output_type": "stream",
     "text": [
      "comble_progna_baseline/\n",
      "--------------------\n",
      "The file /home/tflorian/LES-SCM/output_les/dharma/comble_20200313_progNa.nc has been deleted successfully\n",
      "--------------------\n",
      "comble_diagna_baseline/\n",
      "--------------------\n",
      "The file /home/tflorian/LES-SCM/output_les/dharma/comble_20200313_diagNa.nc has been deleted successfully\n",
      "--------------------\n"
     ]
    }
   ],
   "source": [
    "for x in case_list:\n",
    "    ## \n",
    "    print(x)\n",
    "    DHARMA_convert(x,case_list[x])"
   ]
  },
  {
   "cell_type": "code",
   "execution_count": 33,
   "id": "e285b6c0-ed04-4f95-baab-fc342eccc102",
   "metadata": {
    "scrolled": true
   },
   "outputs": [
    {
     "name": "stdout",
     "output_type": "stream",
     "text": [
      "installed!\n"
     ]
    }
   ],
   "source": []
  },
  {
   "cell_type": "code",
   "execution_count": null,
   "id": "4d18a6af-b8f7-4c6c-b244-ce574b6c33de",
   "metadata": {},
   "outputs": [],
   "source": []
  }
 ],
 "metadata": {
  "kernelspec": {
   "display_name": "Python [conda env:base]",
   "language": "python",
   "name": "conda-base-py"
  },
  "language_info": {
   "codemirror_mode": {
    "name": "ipython",
    "version": 3
   },
   "file_extension": ".py",
   "mimetype": "text/x-python",
   "name": "python",
   "nbconvert_exporter": "python",
   "pygments_lexer": "ipython3",
   "version": "3.12.5"
  }
 },
 "nbformat": 4,
 "nbformat_minor": 5
}
