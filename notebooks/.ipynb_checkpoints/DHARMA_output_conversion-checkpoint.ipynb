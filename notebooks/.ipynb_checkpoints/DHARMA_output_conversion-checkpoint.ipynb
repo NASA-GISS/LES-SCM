{
 "cells": [
  {
   "attachments": {},
   "cell_type": "markdown",
   "id": "466e240e-1a04-4190-aa4a-7172a959efd4",
   "metadata": {},
   "source": [
    "# DHARMA Output Processing\n",
    "\n",
    "## load functions and libraries\n",
    "%run functions_DHARMA_conversion.py \n",
    "\n",
    "if 'openpyxl' not in sys.modules:\n",
    "    !pip install --no-deps openpyxl-3.1.5-py2.py3-none-any.whl "
   ]
  },
  {
   "cell_type": "code",
   "execution_count": 4,
   "id": "14b65819-68be-4c6c-a4a2-008597b97ffb",
   "metadata": {},
   "outputs": [
    {
     "name": "stdout",
     "output_type": "stream",
     "text": [
      "Defaulting to user installation because normal site-packages is not writeable\n",
      "\u001b[33mDEPRECATION: Loading egg at /gpfsm/dulocal15/sles15/other/anaconda/GEOSpyD/24.3.0-0/2024-08-29/envs/py3.12/lib/python3.12/site-packages/pygrads-3.0b1-py3.12.egg is deprecated. pip 24.3 will enforce this behaviour change. A possible replacement is to use pip for package installation. Discussion can be found at https://github.com/pypa/pip/issues/12330\u001b[0m\u001b[33m\n",
      "\u001b[0mProcessing ./openpyxl-3.1.5-py2.py3-none-any.whl\n",
      "openpyxl is already installed with the same version as the provided wheel. Use --force-reinstall to force an installation of the wheel.\n"
     ]
    }
   ],
   "source": [
    "## load functions and libraries\n",
    "%run functions_DHARMA_conversion.py \n",
    "\n",
    "if 'openpyxl' not in sys.modules:\n",
    "    !pip install --no-deps openpyxl-3.1.5-py2.py3-none-any.whl "
   ]
  },
  {
   "cell_type": "code",
   "execution_count": 5,
   "id": "734f4f20-4cfd-43de-80b0-7a34392300d6",
   "metadata": {},
   "outputs": [],
   "source": [
    "## define list of LES simulations for DEPHY output conversion\n",
    "## format:\n",
    "## \"original LES output directory\":\"converted file name\"\n",
    "case_list = {'comble_progna_baseline/':'comble_20200313_progNa',\n",
    "             'comble_diagna_baseline/':'comble_20200313_diagNa'}"
   ]
  },
  {
   "cell_type": "code",
   "execution_count": 14,
   "id": "86b1a775-addd-49d2-aee9-e10f9a9e3f14",
   "metadata": {},
   "outputs": [],
   "source": [
    "case_list = {'comble_20200409_case_baseline_early/':'comble_20200409_progNa',\n",
    "             'comble_20200409_case_monomodal_early_diagNa/':'comble_20200409_diagNa'}"
   ]
  },
  {
   "cell_type": "code",
   "execution_count": 16,
   "id": "c8bf9893-208f-4194-8ac5-d4f88c114382",
   "metadata": {},
   "outputs": [],
   "source": [
    "case_list = {'comble_20200425_case_nosub_ni2/':'comble_20200425_progNa',\n",
    "             'comble_20200425_case_nosub_ni2_monomodal_diagNa':'comble_20200425_diagNa'}"
   ]
  },
  {
   "cell_type": "code",
   "execution_count": null,
   "id": "213c784e-dbf8-4efc-959a-21d2667c5974",
   "metadata": {},
   "outputs": [],
   "source": [
    "case_list = {'comble_20200512_case_ni10_somesub':'comble_20200512_progNa'}"
   ]
  },
  {
   "cell_type": "code",
   "execution_count": null,
   "id": "1d785354-4058-42fa-ab67-b1cc1c769a37",
   "metadata": {},
   "outputs": [
    {
     "name": "stdout",
     "output_type": "stream",
     "text": [
      "comble_20200425_case_nosub_ni2/\n",
      "--------------------\n"
     ]
    }
   ],
   "source": [
    "for x in case_list:\n",
    "    ## \n",
    "    print(x)\n",
    "    DHARMA_convert(x,case_list[x])"
   ]
  },
  {
   "cell_type": "code",
   "execution_count": null,
   "id": "714af4ab-f554-4212-8f3f-032d42bc23c0",
   "metadata": {},
   "outputs": [],
   "source": []
  }
 ],
 "metadata": {
  "kernelspec": {
   "display_name": "Python [conda env:base]",
   "language": "python",
   "name": "conda-base-py"
  },
  "language_info": {
   "codemirror_mode": {
    "name": "ipython",
    "version": 3
   },
   "file_extension": ".py",
   "mimetype": "text/x-python",
   "name": "python",
   "nbconvert_exporter": "python",
   "pygments_lexer": "ipython3",
   "version": "3.12.5"
  }
 },
 "nbformat": 4,
 "nbformat_minor": 5
}
