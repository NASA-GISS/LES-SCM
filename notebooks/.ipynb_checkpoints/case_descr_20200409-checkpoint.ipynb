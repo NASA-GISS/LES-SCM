{
 "cells": [
  {
   "cell_type": "markdown",
   "id": "7122ea21-7b05-466c-bf22-01c72204e23d",
   "metadata": {},
   "source": [
    "# 2020-04-09\n",
    "\n",
    "A brief description.\n",
    "\n",
    "Please check out our [observation-constrained LES and SCM simulations](https://nasa-giss.github.io/LES-SCM/notebooks/case_plotting_20200409.html) of this case."
   ]
  },
  {
   "cell_type": "markdown",
   "id": "137863d8-7292-4ae4-b6d3-b6399d4a99ba",
   "metadata": {},
   "source": [
    "![image](img/worldview_20200409.png)\n",
    "Source: [NASA Worldview](https://worldview.earthdata.nasa.gov/?v=249160.6460261303,-1600774.9213268748,2815986.8198332074,-177731.24395003438&r=54.0000&p=arctic&t=2020-03-13-T17%3A35%3A59Z)"
   ]
  },
  {
   "cell_type": "code",
   "execution_count": null,
   "id": "ce8da158-0f21-4cfd-a758-32389ce9671d",
   "metadata": {},
   "outputs": [],
   "source": []
  }
 ],
 "metadata": {
  "kernelspec": {
   "display_name": "Python 3 (ipykernel)",
   "language": "python",
   "name": "python3"
  },
  "language_info": {
   "codemirror_mode": {
    "name": "ipython",
    "version": 3
   },
   "file_extension": ".py",
   "mimetype": "text/x-python",
   "name": "python",
   "nbconvert_exporter": "python",
   "pygments_lexer": "ipython3",
   "version": "3.12.7"
  }
 },
 "nbformat": 4,
 "nbformat_minor": 5
}
