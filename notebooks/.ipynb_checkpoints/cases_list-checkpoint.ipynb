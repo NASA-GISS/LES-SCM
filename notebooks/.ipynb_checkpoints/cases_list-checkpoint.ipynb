{
 "cells": [
  {
   "cell_type": "markdown",
   "id": "895d363c-1255-4bcd-b101-2bb23cae356f",
   "metadata": {
    "panel-layout": {
     "height": 51.140625,
     "visible": true,
     "width": 100
    }
   },
   "source": [
    "# Overview of Cases"
   ]
  },
  {
   "cell_type": "markdown",
   "id": "34d242f1-6337-4450-835c-774ca05eac13",
   "metadata": {},
   "source": [
    "A list of specific cases."
   ]
  },
  {
   "cell_type": "markdown",
   "id": "de8050b8-ad96-4ac9-b7f0-02759d5b4e5b",
   "metadata": {},
   "source": [
    "## Marine cold-air outbreak cases\n",
    "\n",
    "Some text that describes how we selected cases from the below campaigns, such as the recent ACTIVATE postfrontal survey [(Tornow et al., 2025)](https://doi.org/10.5194/egusphere-2024-3462).\n",
    "\n",
    "| Campaign | Date | Duration (h) | CTT Range (°C)\n",
    "| :---         |     :---:        |          ---: | ---: |\n",
    "| COMBLE [(Geerts et al., 2022)](https://doi.org/10.1175/BAMS-D-21-0044.1)      | [2020-03-13](https://nasa-giss.github.io/LES-SCM/notebooks/case_descr_20200313.html)       |   |\n",
    "|              | 2020-04-09       |     |\n",
    "|              | 2020-04-25       |     |\n",
    "|              | 2020-05-07       |     |\n",
    "|              | 2020-05-12       |     |\n",
    "| ACTIVATE [(Sorooshian et al., 2023)](https://doi.org/10.5194/essd-15-3419-2023)    | 2020-03-01       |   |\n",
    "|              | 2021-01-29       |     |\n",
    "|              | 2021-02-03       |     |\n",
    "|              | 2022-01-11       |     |\n",
    "|              | 2022-01-18       |     |\n",
    "|              | 2022-03-13       |     |\n",
    "|              | 2022-03-29       |     |"
   ]
  },
  {
   "cell_type": "markdown",
   "id": "21959359-80f9-4e8f-bfff-7e2718b57b8f",
   "metadata": {},
   "source": [
    "## Marine trade cumulus and stratocumulus-to-cumulus\n",
    "\n",
    "A few notes.\n",
    "\n",
    "| Campaign | Date | Duration (h) | CTT Range (°C)\n",
    "| :---         |     :---:        |          ---: | ---: |\n",
    "| BOMEX [(Siebesma et al., 2022)](https://doi.org/10.1175/1520-0469(2003)60%3C1201:ALESIS%3E2.0.CO;2)      | ?    |   |\n",
    "| SCT [(Sandu and Stevens et al., 2011)](https://doi.org/10.1175/2011JAS3614.1)    | ?       |   |\n",
    "| DYCOMS-II-RF02 [(Ackerman et al., 2009)](https://doi.org/10.1175/2008MWR2582.1)    | ?       |   |\n",
    "\n",
    "\n",
    "\n",
    " "
   ]
  },
  {
   "cell_type": "markdown",
   "id": "c9e6961b-44df-4452-82f8-816771f42b2a",
   "metadata": {},
   "source": [
    "## Dry stable and convective boundary layer\n",
    "A few notes.\n",
    "\n",
    "| Campaign | Date | Duration (h) | CTT Range (°C)\n",
    "| :---         |     :---:        |          ---: | ---: |\n",
    "| GABLS1 [(Cuxart et al., 2006)](https://doi.org/10.1007/s10546-005-3780-1)      | ?    |   |\n",
    "| DCBL [(Bretherton and Park et al., 2009)](https://doi.org/10.1175/2008JCLI2556.1)    | ?       |   |\n"
   ]
  },
  {
   "cell_type": "markdown",
   "id": "fc08cea5-1989-4fc9-ad44-47d0f92002d0",
   "metadata": {},
   "source": [
    "## Artic mixed-phase stratus\n",
    "A few notes.\n",
    "\n",
    "| Campaign | Date | Duration (h) | CTT Range (°C)\n",
    "| :---         |     :---:        |          ---: | ---: |\n",
    "| AWARE [(Silber et al., 2019](https://doi.org/10.1029/2019JD030882),[, 2021](https://doi.org/10.5194/acp-21-3949-2021),[, and 2022)](https://doi.org/10.1525/elementa.2021.000071)     | ?    |   |\n",
    "| MPACE [(Klein et al., 2009)](https://doi.org/10.1002/qj.416)    | ?       |   |\n"
   ]
  },
  {
   "cell_type": "markdown",
   "id": "af4adbb3-074f-488d-9972-16ed2babb079",
   "metadata": {},
   "source": [
    "## Mid-latitude synoptic cirrus\n",
    "A few notes.\n",
    "\n",
    "| Campaign | Date | Duration (h) | CTT Range (°C)\n",
    "| :---         |     :---:        |          ---: | ---: |\n",
    "| SPARTICUS [(cf. Muhlbauer et al., 2014)](https://doi.org/10.1002/2013JD020035)    | ?    |   |\n"
   ]
  },
  {
   "cell_type": "markdown",
   "id": "881743b8-4253-4765-b1b6-430aaa406229",
   "metadata": {},
   "source": [
    "## Tropical deep convection\n",
    "A few notes.\n",
    "\n",
    "| Campaign | Date | Duration (h) | CTT Range (°C)\n",
    "| :---         |     :---:        |          ---: | ---: |\n",
    "| TWP-ICE [(Fridlind et al., 2012)](https://doi.org/10.1029/2011JD016595)    | ?    |   |\n"
   ]
  },
  {
   "cell_type": "code",
   "execution_count": null,
   "id": "642b8794-9788-4e4d-959b-79046e02bfd3",
   "metadata": {},
   "outputs": [],
   "source": []
  }
 ],
 "metadata": {
  "kernelspec": {
   "display_name": "Python 3 (ipykernel)",
   "language": "python",
   "name": "python3"
  },
  "language_info": {
   "codemirror_mode": {
    "name": "ipython",
    "version": 3
   },
   "file_extension": ".py",
   "mimetype": "text/x-python",
   "name": "python",
   "nbconvert_exporter": "python",
   "pygments_lexer": "ipython3",
   "version": "3.12.7"
  },
  "panel-cell-order": [
   "895d363c-1255-4bcd-b101-2bb23cae356f"
  ]
 },
 "nbformat": 4,
 "nbformat_minor": 5
}
